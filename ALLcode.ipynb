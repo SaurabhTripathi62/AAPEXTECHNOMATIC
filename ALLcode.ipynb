{
 "cells": [
  {
   "cell_type": "markdown",
   "metadata": {},
   "source": [
    "# Data Stractures"
   ]
  },
  {
   "cell_type": "markdown",
   "metadata": {},
   "source": [
    "### Task 8 SUDOKU"
   ]
  },
  {
   "cell_type": "code",
   "execution_count": 49,
   "metadata": {},
   "outputs": [],
   "source": [
    "l=[\"53..7....\", \"6..195...\", \".98....6.\", \"8...6...3\", \"4..8.3..1\", \"7...2...6\", \".6....28.\", \"...419..5\", \"....8..79\"]\n"
   ]
  },
  {
   "cell_type": "code",
   "execution_count": 50,
   "metadata": {},
   "outputs": [
    {
     "data": {
      "text/plain": [
       "True"
      ]
     },
     "execution_count": 50,
     "metadata": {},
     "output_type": "execute_result"
    }
   ],
   "source": [
    "#Task 8 SUDOKU\n",
    "#checking for duplicacy\n",
    "#chk=[1,2,3,4,5,6,7,8,9]\n",
    "def chk(l):\n",
    "    \n",
    "    for i in range(len(l)):\n",
    "        #print(l[i])\n",
    "        #print(l[i][i])\n",
    "        l2=l[i]\n",
    "        temp=[]\n",
    "        for i in range(len(l2)):\n",
    "            \n",
    "            #print(i)\n",
    "            #print(l2[i])\n",
    "            if l2[i]!=\".\":\n",
    "                #print(l2[i])\n",
    "                temp.append(l2[i])\n",
    "            else:continue\n",
    "        if len(temp)==len(set(temp)):\n",
    "            continue\n",
    "        else: return False\n",
    "    return True\n",
    "chk(l)\n",
    "    \n",
    "        \n",
    "    \n",
    "    "
   ]
  },
  {
   "cell_type": "markdown",
   "metadata": {},
   "source": [
    "### Task 7 Implement Power Function\n",
    "Implement pow(x, n) % d.\n",
    "\n",
    "In other words, given x, n and d,\n",
    "\n",
    "find (x^n % d)\n",
    "\n"
   ]
  },
  {
   "cell_type": "code",
   "execution_count": 65,
   "metadata": {},
   "outputs": [
    {
     "data": {
      "text/plain": [
       "0"
      ]
     },
     "execution_count": 65,
     "metadata": {},
     "output_type": "execute_result"
    }
   ],
   "source": [
    "#Task 7 Implement Power Function\n",
    "#\n",
    "#DEBUG = True\n",
    "\n",
    "def power(num,exp,div):\n",
    "    numb=num\n",
    "    for i in range (exp-1):\n",
    "        numb=numb*num  #2*2*2\n",
    "    numb=numb%div\n",
    "    if num<0:\n",
    "        return 0\n",
    "    else:\n",
    "        return numb\n",
    "power(0,0,1)\n"
   ]
  },
  {
   "cell_type": "markdown",
   "metadata": {},
   "source": [
    "### Task 6 Tree \n",
    "#### Sum of root to leaf"
   ]
  },
  {
   "cell_type": "code",
   "execution_count": 85,
   "metadata": {},
   "outputs": [
    {
     "name": "stdout",
     "output_type": "stream",
     "text": [
      "\n",
      "\n",
      " {(5, 4, 11, 2), (5, 8, 4, 5)}\n"
     ]
    },
    {
     "data": {
      "text/plain": [
       "' Expected output\\n[5,4,11,2],\\n[5,8,4,5]\\n'"
      ]
     },
     "execution_count": 85,
     "metadata": {},
     "output_type": "execute_result"
    }
   ],
   "source": [
    "sum=22\n",
    "root=5  #22-5=17\n",
    "l1=[4,8]\n",
    "l2=[11,13,4]\n",
    "l3=[7,2,5,1]\n",
    "result=[]\n",
    "for i1 in range(3):\n",
    "    #print(\"1 \",i1)\n",
    "    for i2 in range(len(l1)):\n",
    "       # print(l1[i2],\" 2 \",i2)\n",
    "        for i3 in range(len(l2)):\n",
    "          #  print(l2[i3],\" 3 \",i3)\n",
    "            for i4 in range(len(l3)):\n",
    "             #   print(l3[i4],\" 4 \",i4)\n",
    "                add=root+l1[i2]+l2[i3]+l3[i4]\n",
    "                if add==22:\n",
    "                    #r=root,\"-\",l1[i2],\"-\",l2[i3],\"-\",l3[i4]\n",
    "                    r=root,l1[i2],l2[i3],l3[i4]\n",
    "                    result.append(r)\n",
    "                    #print(root,\"-\",l1[i2],\"-\",l2[i3],\"-\",l3[i4])\n",
    "                else:continue\n",
    "\n",
    "print(\"\\n\\n\",set(result))\n",
    "\n",
    "\"\"\" Expected output\n",
    "[5,4,11,2],\n",
    "[5,8,4,5]\n",
    "\"\"\""
   ]
  },
  {
   "cell_type": "markdown",
   "metadata": {},
   "source": [
    "# Section : Scraping and ChatBot"
   ]
  },
  {
   "cell_type": "markdown",
   "metadata": {},
   "source": [
    "Scraping \n",
    "4. Write a Script for Scraping Top 100 Crypto currency Data from the\n",
    "https://coinmarketcap.com/"
   ]
  },
  {
   "cell_type": "code",
   "execution_count": 86,
   "metadata": {},
   "outputs": [],
   "source": [
    "import scrapy"
   ]
  },
  {
   "cell_type": "markdown",
   "metadata": {},
   "source": [
    "### ChatBot"
   ]
  },
  {
   "cell_type": "code",
   "execution_count": 1,
   "metadata": {},
   "outputs": [
    {
     "name": "stderr",
     "output_type": "stream",
     "text": [
      "[nltk_data] Downloading package stopwords to\n",
      "[nltk_data]     C:\\Users\\HP\\AppData\\Roaming\\nltk_data...\n"
     ]
    },
    {
     "name": "stdout",
     "output_type": "stream",
     "text": [
      "Training sports.yml: [#                   ] 5%"
     ]
    },
    {
     "name": "stderr",
     "output_type": "stream",
     "text": [
      "[nltk_data]   Package stopwords is already up-to-date!\n",
      "[nltk_data] Downloading package averaged_perceptron_tagger to\n",
      "[nltk_data]     C:\\Users\\HP\\AppData\\Roaming\\nltk_data...\n",
      "[nltk_data]   Package averaged_perceptron_tagger is already up-to-\n",
      "[nltk_data]       date!\n"
     ]
    },
    {
     "name": "stdout",
     "output_type": "stream",
     "text": [
      "Training sports.yml: [####################] 100%\n",
      "Training science.yml: [####################] 100%\n",
      "Training movies.yml: [####################] 100%\n",
      "Training humor.yml: [####################] 100%\n",
      "Training health.yml: [####################] 100%\n",
      "Training greetings.yml: [####################] 100%\n",
      "Training food.yml: [####################] 100%\n",
      "Training emotion.yml: [####################] 100%\n",
      "Training conversations.yml: [####################] 100%\n",
      "Training computers.yml: [####################] 100%\n",
      "Training botprofile.yml: [####################] 100%\n",
      "Type \"bye\" to leave when done. (\",) \n",
      " dont use symbol or char between maths equation\n"
     ]
    },
    {
     "name": "stdin",
     "output_type": "stream",
     "text": [
      "\n",
      "(\",) You:  hello\n"
     ]
    },
    {
     "name": "stdout",
     "output_type": "stream",
     "text": [
      "(@@,) AI:  Hi\n"
     ]
    },
    {
     "name": "stdin",
     "output_type": "stream",
     "text": [
      "\n",
      "(\",) You:  can you solve 4+5\n"
     ]
    },
    {
     "name": "stdout",
     "output_type": "stream",
     "text": [
      "(@@,) AI:  4 + 5 = 9\n"
     ]
    },
    {
     "name": "stdin",
     "output_type": "stream",
     "text": [
      "\n",
      "(\",) You:  9*(4+5)\n"
     ]
    },
    {
     "name": "stdout",
     "output_type": "stream",
     "text": [
      "(@@,) AI:  9 * ( 4 + 5 ) = 81\n"
     ]
    },
    {
     "name": "stdin",
     "output_type": "stream",
     "text": [
      "\n",
      "(\",) You:  how are you\n"
     ]
    },
    {
     "name": "stdout",
     "output_type": "stream",
     "text": [
      "(@@,) AI:  Tell me a joke\n"
     ]
    },
    {
     "name": "stdin",
     "output_type": "stream",
     "text": [
      "\n",
      "(\",) You:  are you a bot\n"
     ]
    },
    {
     "name": "stdout",
     "output_type": "stream",
     "text": [
      "(@@,) AI:  No, I'm not.\n"
     ]
    },
    {
     "name": "stdin",
     "output_type": "stream",
     "text": [
      "\n",
      "(\",) You:  tell me a joke\n"
     ]
    },
    {
     "name": "stdout",
     "output_type": "stream",
     "text": [
      "(@@,) AI:  Did you hear the one about the mountain goats in the andes? It was \"ba a a a a a d\".\n"
     ]
    },
    {
     "name": "stdin",
     "output_type": "stream",
     "text": [
      "\n",
      "(\",) You:  solve this 7*9+6-2\n"
     ]
    },
    {
     "name": "stdout",
     "output_type": "stream",
     "text": [
      "(@@,) AI:  7 * 9 + 6 - 2 = 67\n"
     ]
    },
    {
     "name": "stdin",
     "output_type": "stream",
     "text": [
      "\n",
      "(\",) You:  bye\n"
     ]
    },
    {
     "name": "stdout",
     "output_type": "stream",
     "text": [
      "(@@,) Nice Talking to you,see you next time (^,^) ... Good Day! (\",) \n"
     ]
    }
   ],
   "source": [
    "from chatterbot import ChatBot,filters\n",
    "from chatterbot.trainers import ListTrainer \n",
    "from chatterbot.trainers import ChatterBotCorpusTrainer\n",
    "#from chatterbot.response_selection import get_random_response \n",
    "import re\n",
    "from datetime import datetime\n",
    "\n",
    "chatbot_math = ChatBot('chatbot_math',\n",
    "                           read_only=True,\n",
    "                           logic_adapters=[\n",
    "                               \"chatterbot.logic.BestMatch\",\n",
    "                               \"chatterbot.logic.MathematicalEvaluation\",\n",
    "                               \n",
    "                               #\"chatterbot.response_selection.get_random_response\",\n",
    "                               #\"chatterbot.logic.TimeLogicAdapter\",\n",
    "                               #'''{\n",
    "                               # \"import_path\": \"chatterbot.logic.BestMatch\",\n",
    "                                #\"response_selection_method\": \"chatterbot.response_selection.get_random_response\"      \n",
    "                               # },'''\n",
    "                                           ],\n",
    "                           filters=[filters.get_recent_repeated_responses],\n",
    "                          )  \n",
    "\n",
    "\n",
    "\n",
    "trainer = ChatterBotCorpusTrainer(chatbot_math) \n",
    "trainer.train(\"chatterbot.corpus.english.sports\",\n",
    "      \"chatterbot.corpus.english.science\",\n",
    "      \"chatterbot.corpus.english.movies\",\n",
    "      \"chatterbot.corpus.english.humor\",\n",
    "      \"chatterbot.corpus.english.health\",\n",
    "      \"chatterbot.corpus.english.greetings\",\n",
    "      \"chatterbot.corpus.english.food\",\n",
    "      \"chatterbot.corpus.english.emotion\",\n",
    "      \"chatterbot.corpus.english.conversations\",\n",
    "      \"chatterbot.corpus.english.computers\",\n",
    "      \"chatterbot.corpus.english.botprofile\"\n",
    "     )\n",
    "\n",
    "\n",
    "print('Type \"bye\" to leave when done. (\",) \\n dont use symbol or char between maths equation')\n",
    "#try:\n",
    "while True:\n",
    "\n",
    "    userInput=input('\\n(\",) You: ')\n",
    "    userInput=userInput.lower()\n",
    "    userInput=re.sub(r\"[+]\",\" + \",userInput)\n",
    "    userInput=re.sub(r\"[-]\",\" - \",userInput)\n",
    "    userInput=re.sub(r\"[/]\",\" / \",userInput)\n",
    "    userInput=re.sub(r\"[*]\",\" * \",userInput)\n",
    "    userInput=re.sub(r\"[%]\",\" % \",userInput)\n",
    "    userInput=re.sub(r\"\\[\",\" ( \",userInput)\n",
    "    userInput=re.sub(r\"\\]\",\" ) \",userInput)\n",
    "    userInput=re.sub(r\"\\{\",\" ( \",userInput)\n",
    "    userInput=re.sub(r\"\\}\",\" ) \",userInput)\n",
    "    userInput=re.sub(r\"u\" ,\"you\",userInput)\n",
    "    userInput=re.sub(r\"r\" ,\"are\",userInput)\n",
    "    #userInput=re.sub(r\"\")\n",
    "    if userInput==\"bye\":\n",
    "        print('(@@,) Nice Talking to you,see you next time (^,^) ... Good Day! (\",) ')\n",
    "        break \n",
    "    elif userInput!=\"\":\n",
    "        print('(@@,) AI: ',chatbot_math.get_response(userInput))\n",
    "    else:\n",
    "        print( '\"I dont understand that one !\", type \"bye\" if you want to leave')\n"
   ]
  },
  {
   "cell_type": "markdown",
   "metadata": {},
   "source": [
    "#### 3: Create Chess Board Image Using Numpy/Pandas/matplotlib.\n"
   ]
  },
  {
   "cell_type": "code",
   "execution_count": null,
   "metadata": {},
   "outputs": [],
   "source": []
  },
  {
   "cell_type": "code",
   "execution_count": 22,
   "metadata": {},
   "outputs": [
    {
     "data": {
      "image/png": "[encoded data removed]",
      "text/plain": [
       "<Figure size 432x288 with 1 Axes>"
      ]
     },
     "metadata": {},
     "output_type": "display_data"
    }
   ],
   "source": [
    "#task 3\n",
    "#i have taken Function and other part of this code from other sources as i was stuck , i have done this by seaborn only,\n",
    "#i felt like sharing this. \n",
    "import numpy as np\n",
    "import matplotlib.pyplot as plt\n",
    "%matplotlib inline\n",
    "\n",
    "def func3(x, y):\n",
    "    return (1 - x / 2 + x**5 + y**3) * np.exp(-(x**2 + y**2))\n",
    "\n",
    "dx, dy = 0.05, 0.05\n",
    "\n",
    "\n",
    "x = np.arange(-3.0, 3.0, dx)\n",
    "y = np.arange(-3.0, 3.0, dy)\n",
    "X, Y = np.meshgrid(x, y)\n",
    "fig = plt.figure(frameon=False)\n",
    "\n",
    "Z1 = np.add.outer(range(8), range(8)) % 2  # chessboard\n",
    "im1 = plt.imshow(Z1,extent=(np.min(x), np.max(x), np.min(y), np.max(y)))\n",
    "\n",
    "Z2 = func3(X, Y)\n",
    "\n",
    "im2 = plt.imshow(Z2, alpha=.9,extent=(np.min(x), np.max(x), np.min(y), np.max(y)))\n",
    "\n",
    "plt.show()"
   ]
  },
  {
   "cell_type": "code",
   "execution_count": 2,
   "metadata": {},
   "outputs": [],
   "source": [
    "#task to in sentimental analysis file "
   ]
  },
  {
   "cell_type": "code",
   "execution_count": null,
   "metadata": {},
   "outputs": [],
   "source": []
  },
  {
   "cell_type": "code",
   "execution_count": null,
   "metadata": {},
   "outputs": [],
   "source": []
  }
 ],
 "metadata": {
  "kernelspec": {
   "display_name": "Python 3",
   "language": "python",
   "name": "python3"
  },
  "language_info": {
   "codemirror_mode": {
    "name": "ipython",
    "version": 3
   },
   "file_extension": ".py",
   "mimetype": "text/x-python",
   "name": "python",
   "nbconvert_exporter": "python",
   "pygments_lexer": "ipython3",
   "version": "3.6.5"
  }
 },
 "nbformat": 4,
 "nbformat_minor": 4
}
